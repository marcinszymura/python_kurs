{
 "cells": [
  {
   "cell_type": "code",
   "execution_count": 5,
   "metadata": {},
   "outputs": [],
   "source": [
    "import pandas as pd\n",
    "import numpy as np"
   ]
  },
  {
   "cell_type": "code",
   "execution_count": 6,
   "metadata": {},
   "outputs": [
    {
     "data": {
      "text/plain": [
       "Warszawa    1.7\n",
       "Kraków      0.7\n",
       "Łódź        0.6\n",
       "Poznań      0.6\n",
       "dtype: float64"
      ]
     },
     "execution_count": 6,
     "metadata": {},
     "output_type": "execute_result"
    }
   ],
   "source": [
    "miasta = pd.Series(\n",
    "    [1.7, 0.7, 0.6, 0.6],\n",
    "    index=['Warszawa', 'Kraków', 'Łódź', 'Poznań']\n",
    ")\n",
    "miasta"
   ]
  },
  {
   "cell_type": "code",
   "execution_count": 7,
   "metadata": {},
   "outputs": [
    {
     "data": {
      "text/html": [
       "<div>\n",
       "<style scoped>\n",
       "    .dataframe tbody tr th:only-of-type {\n",
       "        vertical-align: middle;\n",
       "    }\n",
       "\n",
       "    .dataframe tbody tr th {\n",
       "        vertical-align: top;\n",
       "    }\n",
       "\n",
       "    .dataframe thead th {\n",
       "        text-align: right;\n",
       "    }\n",
       "</style>\n",
       "<table border=\"1\" class=\"dataframe\">\n",
       "  <thead>\n",
       "    <tr style=\"text-align: right;\">\n",
       "      <th></th>\n",
       "      <th>first_name</th>\n",
       "      <th>last_name</th>\n",
       "      <th>gender</th>\n",
       "      <th>date_of_birth</th>\n",
       "      <th>rate</th>\n",
       "      <th>hours</th>\n",
       "    </tr>\n",
       "  </thead>\n",
       "  <tbody>\n",
       "    <tr>\n",
       "      <th>0</th>\n",
       "      <td>Aleksandra</td>\n",
       "      <td>Nowak</td>\n",
       "      <td>female</td>\n",
       "      <td>1988-01-10</td>\n",
       "      <td>100</td>\n",
       "      <td>60</td>\n",
       "    </tr>\n",
       "    <tr>\n",
       "      <th>1</th>\n",
       "      <td>Tomek</td>\n",
       "      <td>Kowalski</td>\n",
       "      <td>male</td>\n",
       "      <td>1938-10-22</td>\n",
       "      <td>90</td>\n",
       "      <td>20</td>\n",
       "    </tr>\n",
       "    <tr>\n",
       "      <th>2</th>\n",
       "      <td>Konrad</td>\n",
       "      <td>Lewandowski</td>\n",
       "      <td>male</td>\n",
       "      <td>1986-11-20</td>\n",
       "      <td>50</td>\n",
       "      <td>100</td>\n",
       "    </tr>\n",
       "    <tr>\n",
       "      <th>3</th>\n",
       "      <td>Katarzyna</td>\n",
       "      <td>Woźniak</td>\n",
       "      <td>female</td>\n",
       "      <td>1980-02-12</td>\n",
       "      <td>110</td>\n",
       "      <td>60</td>\n",
       "    </tr>\n",
       "    <tr>\n",
       "      <th>4</th>\n",
       "      <td>Jan</td>\n",
       "      <td>Wiśniewska</td>\n",
       "      <td>male</td>\n",
       "      <td>1978-05-21</td>\n",
       "      <td>170</td>\n",
       "      <td>160</td>\n",
       "    </tr>\n",
       "    <tr>\n",
       "      <th>5</th>\n",
       "      <td>Tomek</td>\n",
       "      <td>Błaszczykowski</td>\n",
       "      <td>male</td>\n",
       "      <td>1960-03-01</td>\n",
       "      <td>40</td>\n",
       "      <td>70</td>\n",
       "    </tr>\n",
       "  </tbody>\n",
       "</table>\n",
       "</div>"
      ],
      "text/plain": [
       "   first_name       last_name  gender date_of_birth  rate  hours\n",
       "0  Aleksandra           Nowak  female    1988-01-10   100     60\n",
       "1       Tomek        Kowalski    male    1938-10-22    90     20\n",
       "2      Konrad     Lewandowski    male    1986-11-20    50    100\n",
       "3   Katarzyna         Woźniak  female    1980-02-12   110     60\n",
       "4         Jan      Wiśniewska    male    1978-05-21   170    160\n",
       "5       Tomek  Błaszczykowski    male    1960-03-01    40     70"
      ]
     },
     "execution_count": 7,
     "metadata": {},
     "output_type": "execute_result"
    }
   ],
   "source": [
    "from datetime import datetime as d\n",
    "df = pd.DataFrame({\n",
    "        'first_name': ['Aleksandra', 'Tomek', 'Konrad', 'Katarzyna', 'Jan', 'Tomek'],\n",
    "        'last_name': ['Nowak', 'Kowalski', 'Lewandowski', 'Woźniak', 'Wiśniewska', 'Błaszczykowski'],\n",
    "        'gender': ['female', 'male', 'male', 'female', 'male', 'male'],\n",
    "        'date_of_birth': [d(1988, 1, 10), d(1938, 10, 22), d(1986, 11, 20), \n",
    "                          d(1980, 2, 12), d(1978, 5, 21), d(1960, 3, 1)],\n",
    "        'rate': [100, 90, 50, 110, 170, 40],\n",
    "        'hours': [60, 20, 100, 60, 160, 70],\n",
    "    },\n",
    "    columns=('first_name', 'last_name', 'gender', 'date_of_birth', 'rate', 'hours'),\n",
    ")\n",
    "df"
   ]
  },
  {
   "cell_type": "code",
   "execution_count": null,
   "metadata": {},
   "outputs": [],
   "source": []
  }
 ],
 "metadata": {
  "kernelspec": {
   "display_name": "Python 3",
   "language": "python",
   "name": "python3"
  },
  "language_info": {
   "codemirror_mode": {
    "name": "ipython",
    "version": 3
   },
   "file_extension": ".py",
   "mimetype": "text/x-python",
   "name": "python",
   "nbconvert_exporter": "python",
   "pygments_lexer": "ipython3",
   "version": "3.7.6"
  }
 },
 "nbformat": 4,
 "nbformat_minor": 4
}
